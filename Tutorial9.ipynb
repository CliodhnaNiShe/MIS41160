{
  "nbformat": 4,
  "nbformat_minor": 0,
  "metadata": {
    "colab": {
      "provenance": [],
      "authorship_tag": "ABX9TyO/nj4f4/YYURUSCZs6wBy/",
      "include_colab_link": true
    },
    "kernelspec": {
      "name": "python3",
      "display_name": "Python 3"
    },
    "language_info": {
      "name": "python"
    }
  },
  "cells": [
    {
      "cell_type": "markdown",
      "metadata": {
        "id": "view-in-github",
        "colab_type": "text"
      },
      "source": [
        "<a href=\"https://colab.research.google.com/github/CliodhnaNiShe/MIS41160/blob/main/Tutorial9.ipynb\" target=\"_parent\"><img src=\"https://colab.research.google.com/assets/colab-badge.svg\" alt=\"Open In Colab\"/></a>"
      ]
    },
    {
      "cell_type": "code",
      "execution_count": 4,
      "metadata": {
        "id": "yE5qPEFHdTWq"
      },
      "outputs": [],
      "source": [
        "import math\n",
        "\n",
        "import numpy as np\n",
        "\n",
        "import networkx as nx\n",
        "\n",
        "import matplotlib.pyplot as plt"
      ]
    },
    {
      "cell_type": "code",
      "source": [
        "dist = [[0, 28, 31, 20, 25, 34],\n",
        "        [28, 0, 21, 29, 26, 20],\n",
        "        [31, 21, 0, 38, 20, 32],\n",
        "        [20, 29, 38, 0, 30, 27],\n",
        "        [25, 26, 20, 30, 0, 26],\n",
        "        [34, 20, 32, 27, 25]]"
      ],
      "metadata": {
        "id": "aPJ0-0-3dgUT"
      },
      "execution_count": 5,
      "outputs": []
    },
    {
      "cell_type": "markdown",
      "source": [
        "## Randomised Heuristic"
      ],
      "metadata": {
        "id": "a6EqM8ufgjiv"
      }
    },
    {
      "cell_type": "markdown",
      "source": [
        "Randomly shuffle the list of nodes to create a tour."
      ],
      "metadata": {
        "id": "gzJR-JJggn6b"
      }
    },
    {
      "cell_type": "code",
      "source": [
        "import random\n",
        "\n",
        "def tsp_randomized(dist_matrix, iterations=1):\n",
        "\n",
        "    n = len(dist_matrix)\n",
        "    best_tour = None\n",
        "    best_cost = float('inf')\n",
        "\n",
        "    for _ in range(iterations):\n",
        "        # Generate a random tour\n",
        "        tour = list(range(n))\n",
        "        random.shuffle(tour)\n",
        "        tour.append(tour[0])  # Return to the starting node\n",
        "\n",
        "        # Calculate the cost of the tour\n",
        "        total_cost = 0\n",
        "        for i in range(n):\n",
        "            total_cost += dist_matrix[tour[i]][tour[i + 1]]\n",
        "\n",
        "        # Update the best tour if this one is better\n",
        "        if total_cost < best_cost:\n",
        "            best_cost = total_cost\n",
        "            best_tour = tour\n",
        "\n",
        "    return best_tour, best_cost\n",
        "\n",
        "\n",
        "# Distance matrix\n",
        "dist = [\n",
        "    [0, 28, 31, 20, 25, 34],\n",
        "    [28, 0, 21, 29, 26, 20],\n",
        "    [31, 21, 0, 38, 20, 32],\n",
        "    [20, 29, 38, 0, 30, 27],\n",
        "    [25, 26, 20, 30, 0, 26],\n",
        "    [34, 20, 32, 27, 25, 0]\n",
        "]\n",
        "\n",
        "# Solve the TSP using the randomized heuristic\n",
        "iterations = 1\n",
        "best_tour, best_cost = tsp_randomized(dist, iterations)\n",
        "\n",
        "# Print the results\n",
        "print(f\"Best Tour (after {iterations} iterations):\", best_tour)\n",
        "print(\"Best Total Cost:\", best_cost)\n"
      ],
      "metadata": {
        "colab": {
          "base_uri": "https://localhost:8080/"
        },
        "id": "uSTSbULHgjPu",
        "outputId": "820b09c1-d449-48eb-d35c-9e41b4f4eff1"
      },
      "execution_count": 6,
      "outputs": [
        {
          "output_type": "stream",
          "name": "stdout",
          "text": [
            "Best Tour (after 1 iterations): [3, 2, 4, 5, 1, 0, 3]\n",
            "Best Total Cost: 152\n"
          ]
        }
      ]
    },
    {
      "cell_type": "markdown",
      "source": [
        "We can repeat this for n iterations and keep the result, to make this a better heuristic"
      ],
      "metadata": {
        "id": "7y8ErWSyhG41"
      }
    },
    {
      "cell_type": "code",
      "source": [
        "import random\n",
        "\n",
        "def tsp_randomized(dist_matrix, iterations=1):\n",
        "\n",
        "    n = len(dist_matrix)\n",
        "    best_tour = None\n",
        "    best_cost = float('inf')\n",
        "\n",
        "    for _ in range(iterations):\n",
        "        # Generate a random tour\n",
        "        tour = list(range(n))\n",
        "        random.shuffle(tour)\n",
        "        tour.append(tour[0])  # Return to the starting node\n",
        "\n",
        "        # Calculate the cost of the tour\n",
        "        total_cost = 0\n",
        "        for i in range(n):\n",
        "            total_cost += dist_matrix[tour[i]][tour[i + 1]]\n",
        "\n",
        "        # Update the best tour if this one is better\n",
        "        if total_cost < best_cost:\n",
        "            best_cost = total_cost\n",
        "            best_tour = tour\n",
        "\n",
        "    return best_tour, best_cost\n",
        "\n",
        "\n",
        "# Distance matrix\n",
        "dist = [\n",
        "    [0, 28, 31, 20, 25, 34],\n",
        "    [28, 0, 21, 29, 26, 20],\n",
        "    [31, 21, 0, 38, 20, 32],\n",
        "    [20, 29, 38, 0, 30, 27],\n",
        "    [25, 26, 20, 30, 0, 26],\n",
        "    [34, 20, 32, 27, 25, 0]\n",
        "]\n",
        "\n",
        "# Solve the TSP using the randomized heuristic\n",
        "iterations = 100\n",
        "best_tour, best_cost = tsp_randomized(dist, iterations)\n",
        "\n",
        "# Print the results\n",
        "print(f\"Best Tour (after {iterations} iterations):\", best_tour)\n",
        "print(\"Best Total Cost:\", best_cost)\n"
      ],
      "metadata": {
        "colab": {
          "base_uri": "https://localhost:8080/"
        },
        "id": "0KVa0w-shOjL",
        "outputId": "32cbb48c-0090-4abe-ddf7-a29490e80c78"
      },
      "execution_count": 7,
      "outputs": [
        {
          "output_type": "stream",
          "name": "stdout",
          "text": [
            "Best Tour (after 100 iterations): [4, 0, 3, 5, 1, 2, 4]\n",
            "Best Total Cost: 133\n"
          ]
        }
      ]
    },
    {
      "cell_type": "markdown",
      "source": [
        "## Nearest neighbour heuristic"
      ],
      "metadata": {
        "id": "6Zo_XCH4ev8A"
      }
    },
    {
      "cell_type": "markdown",
      "source": [
        "Start at an initial node, and chose the closest unvisited node until all nodes are visited"
      ],
      "metadata": {
        "id": "_dYIrW1Iez4f"
      }
    },
    {
      "cell_type": "code",
      "source": [
        "def tsp_nearest_neighbor(dist_matrix, start_node=0):\n",
        "\n",
        "    n = len(dist_matrix)\n",
        "    visited = [False] * n\n",
        "    tour = [start_node]\n",
        "    total_cost = 0\n",
        "\n",
        "    current_node = start_node\n",
        "    visited[current_node] = True\n",
        "\n",
        "    for _ in range(n - 1):\n",
        "        # Find the nearest unvisited node\n",
        "        nearest_node = None\n",
        "        min_distance = float('inf')\n",
        "\n",
        "        for next_node in range(n):\n",
        "            if not visited[next_node] and dist_matrix[current_node][next_node] < min_distance:\n",
        "                nearest_node = next_node\n",
        "                min_distance = dist_matrix[current_node][next_node]\n",
        "\n",
        "        # Update the tour and total cost\n",
        "        tour.append(nearest_node)\n",
        "        total_cost += min_distance\n",
        "        visited[nearest_node] = True\n",
        "        current_node = nearest_node\n",
        "\n",
        "    # Return to the starting node\n",
        "    total_cost += dist_matrix[current_node][start_node]\n",
        "    tour.append(start_node)\n",
        "\n",
        "    return tour, total_cost\n",
        "\n",
        "\n",
        "# Solve the TSP using the nearest neighbor heuristic\n",
        "start_node = 0\n",
        "tour, total_cost = tsp_nearest_neighbor(dist, start_node)\n",
        "\n",
        "# Print the results\n",
        "print(\"Tour:\", tour)\n",
        "print(\"Total cost:\", total_cost)"
      ],
      "metadata": {
        "colab": {
          "base_uri": "https://localhost:8080/"
        },
        "id": "MMm4MTa0eS1t",
        "outputId": "f2a1485c-04e7-4533-93e8-f934b2196faa"
      },
      "execution_count": 8,
      "outputs": [
        {
          "output_type": "stream",
          "name": "stdout",
          "text": [
            "Tour: [0, 3, 5, 1, 2, 4, 0]\n",
            "Total cost: 133\n"
          ]
        }
      ]
    },
    {
      "cell_type": "markdown",
      "source": [
        "Think about how changing the initial strarting node affects the result, both the tour and the objective function value"
      ],
      "metadata": {
        "id": "mIhlwsddfNvy"
      }
    },
    {
      "cell_type": "code",
      "source": [
        "# Compare costs for different starting nodes\n",
        "for start_node in range(len(dist)):\n",
        "    tour, total_cost = tsp_nearest_neighbor(dist, start_node)\n",
        "    print(f\"Starting at node {start_node}: Tour = {tour}, Total Cost = {total_cost}\")"
      ],
      "metadata": {
        "colab": {
          "base_uri": "https://localhost:8080/"
        },
        "id": "OlXY8X1ofGw8",
        "outputId": "b2f98a9d-203d-4780-ee57-e9a9491da937"
      },
      "execution_count": 9,
      "outputs": [
        {
          "output_type": "stream",
          "name": "stdout",
          "text": [
            "Starting at node 0: Tour = [0, 3, 5, 1, 2, 4, 0], Total Cost = 133\n",
            "Starting at node 1: Tour = [1, 5, 4, 2, 0, 3, 1], Total Cost = 145\n",
            "Starting at node 2: Tour = [2, 4, 0, 3, 5, 1, 2], Total Cost = 133\n",
            "Starting at node 3: Tour = [3, 0, 4, 2, 1, 5, 3], Total Cost = 133\n",
            "Starting at node 4: Tour = [4, 2, 1, 5, 3, 0, 4], Total Cost = 133\n",
            "Starting at node 5: Tour = [5, 1, 2, 4, 0, 3, 5], Total Cost = 133\n"
          ]
        }
      ]
    },
    {
      "cell_type": "markdown",
      "source": [
        "## Greedy Heuristic"
      ],
      "metadata": {
        "id": "atJ16_hXgDHX"
      }
    },
    {
      "cell_type": "markdown",
      "source": [
        "Adds the shortest available edge to the tour iteratively while avoiding premature cycles and ensuring no node has more than two connections (except for closing the tour)"
      ],
      "metadata": {
        "id": "rZ1pQ58VgYvf"
      }
    },
    {
      "cell_type": "code",
      "source": [
        "def tsp_greedy(dist_matrix):\n",
        "\n",
        "    n = len(dist_matrix)\n",
        "\n",
        "    # List to track edges in the solution\n",
        "    edges = []\n",
        "    degrees = [0] * n  # Degree of each node\n",
        "    total_cost = 0\n",
        "\n",
        "    # Sort all edges by their distance\n",
        "    all_edges = [(i, j, dist_matrix[i][j]) for i in range(n) for j in range(i + 1, n)]\n",
        "    all_edges.sort(key=lambda x: x[2])\n",
        "\n",
        "    # Helper function to find the set of a node (to avoid cycles)\n",
        "    parent = list(range(n))\n",
        "\n",
        "    def find(node):\n",
        "        if parent[node] != node:\n",
        "            parent[node] = find(parent[node])\n",
        "        return parent[node]\n",
        "\n",
        "    def union(node1, node2):\n",
        "        parent[find(node1)] = find(node2)\n",
        "\n",
        "    # Add edges while avoiding premature cycles and ensuring degrees are valid\n",
        "    for i, j, cost in all_edges:\n",
        "        if degrees[i] < 2 and degrees[j] < 2 and find(i) != find(j):\n",
        "            edges.append((i, j))\n",
        "            total_cost += cost\n",
        "            degrees[i] += 1\n",
        "            degrees[j] += 1\n",
        "            union(i, j)\n",
        "\n",
        "        # Stop when we have n edges to form a cycle\n",
        "        if len(edges) == n - 1:\n",
        "            break\n",
        "\n",
        "    # Close the tour\n",
        "    start_node, end_node = None, None\n",
        "    for node in range(n):\n",
        "        if degrees[node] == 1:\n",
        "            if start_node is None:\n",
        "                start_node = node\n",
        "            else:\n",
        "                end_node = node\n",
        "                break\n",
        "    edges.append((start_node, end_node))\n",
        "    total_cost += dist_matrix[start_node][end_node]\n",
        "\n",
        "    # Extract the tour from the edges\n",
        "    tour = [start_node]\n",
        "    current_node = start_node\n",
        "    while len(tour) < n:\n",
        "        for edge in edges:\n",
        "            if edge[0] == current_node and edge[1] not in tour:\n",
        "                tour.append(edge[1])\n",
        "                current_node = edge[1]\n",
        "                break\n",
        "            elif edge[1] == current_node and edge[0] not in tour:\n",
        "                tour.append(edge[0])\n",
        "                current_node = edge[0]\n",
        "                break\n",
        "    tour.append(start_node)\n",
        "\n",
        "    return tour, total_cost\n",
        "\n",
        "# Solve the TSP using the greedy heuristic\n",
        "tour, total_cost = tsp_greedy(dist)\n",
        "print(\"Greedy Tour:\", tour)\n",
        "print(\"Total Cost:\", total_cost)\n"
      ],
      "metadata": {
        "colab": {
          "base_uri": "https://localhost:8080/"
        },
        "id": "2ZAjTe2MfeQm",
        "outputId": "fff80bdf-6d29-4e5a-acee-7238fda78d79"
      },
      "execution_count": 10,
      "outputs": [
        {
          "output_type": "stream",
          "name": "stdout",
          "text": [
            "Greedy Tour: [3, 0, 4, 2, 1, 5, 3]\n",
            "Total Cost: 133\n"
          ]
        }
      ]
    },
    {
      "cell_type": "markdown",
      "source": [
        "## Testing heuristics on benchmark instances"
      ],
      "metadata": {
        "id": "h5bPjoPcRWjt"
      }
    },
    {
      "cell_type": "code",
      "source": [
        "import math\n",
        "\n",
        "# Node coordinates\n",
        "coordinates = [\n",
        "    (16.47, 96.10), (16.47, 94.44), (20.09, 92.54), (22.39, 93.37),\n",
        "    (25.23, 97.24), (22.00, 96.05), (20.47, 97.02), (17.20, 96.29),\n",
        "    (16.30, 97.38), (14.05, 98.12), (16.53, 97.38), (21.52, 95.59),\n",
        "    (19.41, 97.13), (20.09, 94.55)\n",
        "]\n",
        "\n",
        "# Function to calculate Euclidean distance\n",
        "def euclidean_distance(p1, p2):\n",
        "    return round(math.sqrt((p2[0] - p1[0])**2 + (p2[1] - p1[1])**2), 2)\n",
        "\n",
        "# Create the distance matrix\n",
        "n = len(coordinates)\n",
        "distance_matrix = [[0] * n for _ in range(n)]\n",
        "\n",
        "for i in range(n):\n",
        "    for j in range(n):\n",
        "        if i != j:\n",
        "            distance_matrix[i][j] = euclidean_distance(coordinates[i], coordinates[j])\n",
        "\n",
        "# Print the distance matrix\n",
        "print(\"Distance Matrix:\")\n",
        "for row in distance_matrix:\n",
        "    print(row)\n"
      ],
      "metadata": {
        "colab": {
          "base_uri": "https://localhost:8080/"
        },
        "id": "Ghs2lv6K_TDQ",
        "outputId": "1c3b560d-21a2-4600-b248-b78f4fb3bda7"
      },
      "execution_count": 11,
      "outputs": [
        {
          "output_type": "stream",
          "name": "stdout",
          "text": [
            "Distance Matrix:\n",
            "[0, 1.66, 5.08, 6.52, 8.83, 5.53, 4.1, 0.75, 1.29, 3.15, 1.28, 5.08, 3.12, 3.94]\n",
            "[1.66, 0, 4.09, 6.02, 9.2, 5.76, 4.76, 1.99, 2.94, 4.4, 2.94, 5.18, 3.98, 3.62]\n",
            "[5.08, 4.09, 0, 2.45, 6.96, 4.0, 4.5, 4.73, 6.15, 8.22, 6.01, 3.37, 4.64, 2.01]\n",
            "[6.52, 6.02, 2.45, 0, 4.8, 2.71, 4.12, 5.96, 7.29, 9.6, 7.1, 2.38, 4.8, 2.59]\n",
            "[8.83, 9.2, 6.96, 4.8, 0, 3.44, 4.77, 8.09, 8.93, 11.21, 8.7, 4.06, 5.82, 5.8]\n",
            "[5.53, 5.76, 4.0, 2.71, 3.44, 0, 1.81, 4.81, 5.85, 8.22, 5.63, 0.66, 2.81, 2.43]\n",
            "[4.1, 4.76, 4.5, 4.12, 4.77, 1.81, 0, 3.35, 4.19, 6.51, 3.96, 1.77, 1.07, 2.5]\n",
            "[0.75, 1.99, 4.73, 5.96, 8.09, 4.81, 3.35, 0, 1.41, 3.64, 1.28, 4.38, 2.36, 3.37]\n",
            "[1.29, 2.94, 6.15, 7.29, 8.93, 5.85, 4.19, 1.41, 0, 2.37, 0.23, 5.52, 3.12, 4.73]\n",
            "[3.15, 4.4, 8.22, 9.6, 11.21, 8.22, 6.51, 3.64, 2.37, 0, 2.59, 7.89, 5.45, 7.02]\n",
            "[1.28, 2.94, 6.01, 7.1, 8.7, 5.63, 3.96, 1.28, 0.23, 2.59, 0, 5.3, 2.89, 4.55]\n",
            "[5.08, 5.18, 3.37, 2.38, 4.06, 0.66, 1.77, 4.38, 5.52, 7.89, 5.3, 0, 2.61, 1.77]\n",
            "[3.12, 3.98, 4.64, 4.8, 5.82, 2.81, 1.07, 2.36, 3.12, 5.45, 2.89, 2.61, 0, 2.67]\n",
            "[3.94, 3.62, 2.01, 2.59, 5.8, 2.43, 2.5, 3.37, 4.73, 7.02, 4.55, 1.77, 2.67, 0]\n"
          ]
        }
      ]
    },
    {
      "cell_type": "markdown",
      "source": [
        "Randomised Heuristic"
      ],
      "metadata": {
        "id": "pgRmqWDzQtVw"
      }
    },
    {
      "cell_type": "code",
      "source": [
        "# Solve the TSP using the randomized heuristic\n",
        "iterations = 1\n",
        "best_tour, best_cost = tsp_randomized(distance_matrix, iterations)\n",
        "\n",
        "# Print the results\n",
        "print(f\"Best Tour (after {iterations} iterations):\", best_tour)\n",
        "print(\"Best Total Cost:\", best_cost)"
      ],
      "metadata": {
        "colab": {
          "base_uri": "https://localhost:8080/"
        },
        "id": "Yd3IlM9nIa4R",
        "outputId": "fcc4045e-ef6a-4125-af84-ad31bd719430"
      },
      "execution_count": 12,
      "outputs": [
        {
          "output_type": "stream",
          "name": "stdout",
          "text": [
            "Best Tour (after 1 iterations): [2, 7, 1, 12, 8, 6, 4, 9, 10, 11, 5, 0, 13, 3, 2]\n",
            "Best Total Cost: 57.05\n"
          ]
        }
      ]
    },
    {
      "cell_type": "code",
      "source": [
        "# Solve the TSP using the randomized heuristic\n",
        "iterations = 100\n",
        "best_tour, best_cost = tsp_randomized(distance_matrix, iterations)\n",
        "\n",
        "# Print the results\n",
        "print(f\"Best Tour (after {iterations} iterations):\", best_tour)\n",
        "print(\"Best Total Cost:\", best_cost)"
      ],
      "metadata": {
        "colab": {
          "base_uri": "https://localhost:8080/"
        },
        "id": "uVhnoDYC_Tc3",
        "outputId": "6ecc33f9-e8a3-4333-fb96-07a277ebe9a6"
      },
      "execution_count": 13,
      "outputs": [
        {
          "output_type": "stream",
          "name": "stdout",
          "text": [
            "Best Tour (after 100 iterations): [3, 13, 2, 4, 12, 1, 10, 9, 8, 0, 7, 5, 11, 6, 3]\n",
            "Best Total Cost: 42.66\n"
          ]
        }
      ]
    },
    {
      "cell_type": "markdown",
      "source": [
        "Try for more iterations - 1000 or 10000"
      ],
      "metadata": {
        "id": "sW357I4XIoOx"
      }
    },
    {
      "cell_type": "markdown",
      "source": [
        "Nearest Neighbour Heuristic"
      ],
      "metadata": {
        "id": "m0cUXNMLQz4v"
      }
    },
    {
      "cell_type": "code",
      "source": [
        "# Solve the TSP using the nearest neighbor heuristic\n",
        "start_node = 0\n",
        "tour, total_cost = tsp_nearest_neighbor(distance_matrix, start_node)\n",
        "\n",
        "\n",
        "# Print the results\n",
        "print(\"Tour:\", tour)\n",
        "print(\"Total cost:\", total_cost)"
      ],
      "metadata": {
        "colab": {
          "base_uri": "https://localhost:8080/"
        },
        "id": "2ze9MmpYQmu4",
        "outputId": "9e0c34dc-e783-498f-8764-bacb943e07aa"
      },
      "execution_count": 14,
      "outputs": [
        {
          "output_type": "stream",
          "name": "stdout",
          "text": [
            "Tour: [0, 7, 10, 8, 9, 1, 13, 11, 5, 6, 12, 2, 3, 4, 0]\n",
            "Total cost: 38.68\n"
          ]
        }
      ]
    },
    {
      "cell_type": "code",
      "source": [
        "# Compare costs for different starting nodes\n",
        "for start_node in range(len(distance_matrix)):\n",
        "    tour, total_cost = tsp_nearest_neighbor(distance_matrix, start_node)\n",
        "    print(f\"Starting at node {start_node}: Tour = {tour}, Total Cost = {total_cost}\")"
      ],
      "metadata": {
        "colab": {
          "base_uri": "https://localhost:8080/"
        },
        "id": "pAsKfHxqQ7SD",
        "outputId": "eccfef93-e75c-4e86-e1c1-8d1d3513a2e9"
      },
      "execution_count": 15,
      "outputs": [
        {
          "output_type": "stream",
          "name": "stdout",
          "text": [
            "Starting at node 0: Tour = [0, 7, 10, 8, 9, 1, 13, 11, 5, 6, 12, 2, 3, 4, 0], Total Cost = 38.68\n",
            "Starting at node 1: Tour = [1, 0, 7, 10, 8, 9, 12, 6, 11, 5, 13, 2, 3, 4, 1], Total Cost = 36.129999999999995\n",
            "Starting at node 2: Tour = [2, 13, 11, 5, 6, 12, 7, 0, 10, 8, 9, 1, 3, 4, 2], Total Cost = 36.49\n",
            "Starting at node 3: Tour = [3, 11, 5, 6, 12, 7, 0, 10, 8, 9, 1, 13, 2, 4, 3], Total Cost = 34.7\n",
            "Starting at node 4: Tour = [4, 5, 11, 6, 12, 7, 0, 10, 8, 9, 1, 13, 2, 3, 4], Total Cost = 31.21\n",
            "Starting at node 5: Tour = [5, 11, 6, 12, 7, 0, 10, 8, 9, 1, 13, 2, 3, 4, 5], Total Cost = 31.209999999999997\n",
            "Starting at node 6: Tour = [6, 12, 7, 0, 10, 8, 9, 1, 13, 11, 5, 3, 2, 4, 6], Total Cost = 35.400000000000006\n",
            "Starting at node 7: Tour = [7, 0, 10, 8, 9, 1, 13, 11, 5, 6, 12, 2, 3, 4, 7], Total Cost = 37.94\n",
            "Starting at node 8: Tour = [8, 10, 0, 7, 1, 13, 11, 5, 6, 12, 2, 3, 4, 9, 8], Total Cost = 38.65\n",
            "Starting at node 9: Tour = [9, 8, 10, 0, 7, 1, 13, 11, 5, 6, 12, 2, 3, 4, 9], Total Cost = 38.650000000000006\n",
            "Starting at node 10: Tour = [10, 8, 0, 7, 1, 13, 11, 5, 6, 12, 2, 3, 4, 9, 10], Total Cost = 38.88000000000001\n",
            "Starting at node 11: Tour = [11, 5, 6, 12, 7, 0, 10, 8, 9, 1, 13, 2, 3, 4, 11], Total Cost = 31.87\n",
            "Starting at node 12: Tour = [12, 6, 11, 5, 13, 2, 3, 4, 7, 0, 10, 8, 9, 1, 12], Total Cost = 36.29\n",
            "Starting at node 13: Tour = [13, 11, 5, 6, 12, 7, 0, 10, 8, 9, 1, 2, 3, 4, 13], Total Cost = 33.84\n"
          ]
        }
      ]
    },
    {
      "cell_type": "code",
      "source": [],
      "metadata": {
        "id": "U2q_NCP1Q5hX"
      },
      "execution_count": 15,
      "outputs": []
    }
  ]
}