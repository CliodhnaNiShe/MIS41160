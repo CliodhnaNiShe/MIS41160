{
  "nbformat": 4,
  "nbformat_minor": 0,
  "metadata": {
    "colab": {
      "provenance": [],
      "authorship_tag": "ABX9TyMj3zfHQgTa8xFTRbqp5HmQ",
      "include_colab_link": true
    },
    "kernelspec": {
      "name": "python3",
      "display_name": "Python 3"
    },
    "language_info": {
      "name": "python"
    }
  },
  "cells": [
    {
      "cell_type": "markdown",
      "metadata": {
        "id": "view-in-github",
        "colab_type": "text"
      },
      "source": [
        "<a href=\"https://colab.research.google.com/github/CliodhnaNiShe/MIS41160/blob/main/Tutorial8.ipynb\" target=\"_parent\"><img src=\"https://colab.research.google.com/assets/colab-badge.svg\" alt=\"Open In Colab\"/></a>"
      ]
    },
    {
      "cell_type": "markdown",
      "source": [
        "Question 1 - Bisection method"
      ],
      "metadata": {
        "id": "ySwSXR1VKA_B"
      }
    },
    {
      "cell_type": "markdown",
      "source": [
        "Question from slides (slide 10). Find the maximumor minimum of the function $-x^2 + 5$ in the interval $x \\in [-2, +1]$. Set the tolerance $\\epsilon = 0.5$"
      ],
      "metadata": {
        "id": "13tVMTNrIBaN"
      }
    },
    {
      "cell_type": "code",
      "source": [
        "# Define the function and its derivative\n",
        "def f_prime(x):\n",
        "    return -2 * x  # derivative of f(x) = -x^2 + 5\n",
        "\n",
        "# Bisection method setup with detailed print statements\n",
        "def bisection_method_verbose(f_prime, a, b, tolerance):\n",
        "    # Check initial values\n",
        "    if f_prime(a) * f_prime(b) > 0:\n",
        "        print(\"No root found within the interval.\")\n",
        "        return None  # No root in this range\n",
        "\n",
        "    iteration = 1\n",
        "    while (b - a) / 2 > tolerance:\n",
        "        midpoint = (a + b) / 2\n",
        "        f_mid = f_prime(midpoint)\n",
        "\n",
        "        # Print details of the current iteration\n",
        "        print(f\"Iteration {iteration}:\")\n",
        "        print(f\"  Interval: [{a}, {b}]\")\n",
        "        print(f\"  Midpoint: {midpoint}, f'(midpoint) = {f_mid}\")\n",
        "\n",
        "        if f_mid == 0:  # Found exact root\n",
        "            print(\"Exact root found at midpoint.\")\n",
        "            return midpoint\n",
        "        elif f_prime(a) * f_mid < 0:  # Root is in left half\n",
        "            b = midpoint\n",
        "            print(f\"  Root is in left half, new interval is [{a}, {b}]\")\n",
        "        else:  # Root is in right half\n",
        "            a = midpoint\n",
        "            print(f\"  Root is in right half, new interval is [{a}, {b}]\")\n",
        "\n",
        "        iteration += 1\n",
        "\n",
        "    # Print final interval and return midpoint as approximate root within tolerance\n",
        "    print(f\"\\nFinal interval: [{a}, {b}]\")\n",
        "    result = (a + b) / 2\n",
        "    print(f\"Approximate root found at x = {result} with f'(x) = {f_prime(result)}\")\n",
        "    return result\n",
        "\n",
        "# Define parameters for the bisection method\n",
        "a, b = -2, 1\n",
        "tolerance = 0.5\n",
        "\n",
        "# Run the verbose bisection method\n",
        "optimum_x_verbose = bisection_method_verbose(f_prime, a, b, tolerance)\n",
        "print(f\"Approximate optimum x: {optimum_x_verbose}\")\n"
      ],
      "metadata": {
        "colab": {
          "base_uri": "https://localhost:8080/"
        },
        "id": "b6nqwaizRJsy",
        "outputId": "cc73c6bb-dd9f-4526-d7fa-f0add0df294c"
      },
      "execution_count": 7,
      "outputs": [
        {
          "output_type": "stream",
          "name": "stdout",
          "text": [
            "Iteration 1:\n",
            "  Interval: [-2, 1]\n",
            "  Midpoint: -0.5, f'(midpoint) = 1.0\n",
            "  Root is in right half, new interval is [-0.5, 1]\n",
            "Iteration 2:\n",
            "  Interval: [-0.5, 1]\n",
            "  Midpoint: 0.25, f'(midpoint) = -0.5\n",
            "  Root is in left half, new interval is [-0.5, 0.25]\n",
            "\n",
            "Final interval: [-0.5, 0.25]\n",
            "Approximate root found at x = -0.125 with f'(x) = 0.25\n",
            "Approximate optimum x: -0.125\n"
          ]
        }
      ]
    },
    {
      "cell_type": "markdown",
      "source": [
        "Find an optimum of the function $f(x) = 6x^2 - 2x + 3$ in the range $[-3,3]$  with a tolerance of $\\epsilon = 0.5$ . Is this a minimum or a maximum?\n"
      ],
      "metadata": {
        "id": "s5m4ZY1AI_48"
      }
    },
    {
      "cell_type": "code",
      "source": [
        "# Define the function and its derivative\n",
        "def f_prime(x):\n",
        "    return 12 * x - 2  # derivative of f(x) = 6x^2 - 2x + 3\n",
        "\n",
        "# Bisection method setup with detailed print statements\n",
        "def bisection_method_verbose(f_prime, a, b, tolerance):\n",
        "    # Check initial values\n",
        "    if f_prime(a) * f_prime(b) > 0:\n",
        "        print(\"No root found within the interval.\")\n",
        "        return None  # No root in this range\n",
        "\n",
        "    iteration = 1\n",
        "    while (b - a) / 2 > tolerance:\n",
        "        midpoint = (a + b) / 2\n",
        "        f_mid = f_prime(midpoint)\n",
        "\n",
        "        # Print details of the current iteration\n",
        "        print(f\"Iteration {iteration}:\")\n",
        "        print(f\"  Interval: [{a}, {b}]\")\n",
        "        print(f\"  Midpoint: {midpoint}, f'(midpoint) = {f_mid}\")\n",
        "\n",
        "        if f_mid == 0:  # Found exact root\n",
        "            print(\"Exact root found at midpoint.\")\n",
        "            return midpoint\n",
        "        elif f_prime(a) * f_mid < 0:  # Root is in left half\n",
        "            b = midpoint\n",
        "            print(f\"  Root is in left half, new interval is [{a}, {b}]\")\n",
        "        else:  # Root is in right half\n",
        "            a = midpoint\n",
        "            print(f\"  Root is in right half, new interval is [{a}, {b}]\")\n",
        "\n",
        "        iteration += 1\n",
        "\n",
        "    # Print final interval and return midpoint as approximate root within tolerance\n",
        "    print(f\"\\nFinal interval: [{a}, {b}]\")\n",
        "    result = (a + b) / 2\n",
        "    print(f\"Approximate root found at x = {result} with f'(x) = {f_prime(result)}\")\n",
        "    return result\n",
        "\n",
        "# Define parameters for the bisection method\n",
        "a, b = -3, 3\n",
        "tolerance = 0.5\n",
        "\n",
        "# Run the verbose bisection method\n",
        "optimum_x_verbose = bisection_method_verbose(f_prime, a, b, tolerance)\n",
        "print(f\"Approximate optimum x: {optimum_x_verbose}\")\n"
      ],
      "metadata": {
        "colab": {
          "base_uri": "https://localhost:8080/"
        },
        "id": "RRbj_6jla_RC",
        "outputId": "7142fcfc-e08d-4e35-e752-6979f2199853"
      },
      "execution_count": 8,
      "outputs": [
        {
          "output_type": "stream",
          "name": "stdout",
          "text": [
            "Iteration 1:\n",
            "  Interval: [-3, 3]\n",
            "  Midpoint: 0.0, f'(midpoint) = -2.0\n",
            "  Root is in right half, new interval is [0.0, 3]\n",
            "Iteration 2:\n",
            "  Interval: [0.0, 3]\n",
            "  Midpoint: 1.5, f'(midpoint) = 16.0\n",
            "  Root is in left half, new interval is [0.0, 1.5]\n",
            "Iteration 3:\n",
            "  Interval: [0.0, 1.5]\n",
            "  Midpoint: 0.75, f'(midpoint) = 7.0\n",
            "  Root is in left half, new interval is [0.0, 0.75]\n",
            "\n",
            "Final interval: [0.0, 0.75]\n",
            "Approximate root found at x = 0.375 with f'(x) = 2.5\n",
            "Approximate optimum x: 0.375\n"
          ]
        }
      ]
    },
    {
      "cell_type": "markdown",
      "source": [
        "Question 2 - Golden Search method"
      ],
      "metadata": {
        "id": "SQZ3wKsNKHh_"
      }
    },
    {
      "cell_type": "markdown",
      "source": [
        "Maximisation problem from slides (slide 17) - note splitting rule\n",
        "find the value x that maximises:\n",
        "$f(x) = 12x - 3x^4 - 2x^6$"
      ],
      "metadata": {
        "id": "C_Wi5XutKVX5"
      }
    },
    {
      "cell_type": "code",
      "source": [
        "import math\n",
        "def func(x):\n",
        "    return 12*x - 3*x**4 - 2*x**6\n",
        "\n",
        "# Golden ratio\n",
        "phi = 2/(1 + math.sqrt(5))  # ≈ 0.618\n",
        "\n",
        "# Golden section search for minimization with detailed print statements\n",
        "def golden_section_maximise_verbose(f, a, b, tolerance):\n",
        "    # Initial points based on golden ratio\n",
        "    c = b - (b - a) * phi\n",
        "    d = a + (b - a) * phi\n",
        "    iteration = 1\n",
        "\n",
        "    print(f\"Starting interval: [{a}, {b}]\")\n",
        "    while abs(b - a) > tolerance:\n",
        "        # Evaluate function at points c and d\n",
        "        f_c = f(c)\n",
        "        f_d = f(d)\n",
        "\n",
        "        # Print the details of the current iteration\n",
        "        print(f\"Iteration {iteration}:\")\n",
        "        print(f\"  Interval: [{a}, {b}]\")\n",
        "        print(f\"  c = {c}, f(c) = {f_c}\")\n",
        "        print(f\"  d = {d}, f(d) = {f_d}\")\n",
        "\n",
        "        if f_c > f_d:\n",
        "            b = d\n",
        "            print(f\"  New interval is [{a}, {b}] (keeping left side)\")\n",
        "        else:\n",
        "            a = c\n",
        "            print(f\"  New interval is [{a}, {b}] (keeping right side)\")\n",
        "\n",
        "\n",
        "        # Recalculate c and d for the next iteration\n",
        "        c = b - (b - a) * phi\n",
        "        d = a + (b - a) * phi\n",
        "        iteration += 1\n",
        "\n",
        "    # Return midpoint as approximate location of the minimum\n",
        "    result = (b + a) / 2\n",
        "    print(f\"\\nApproximate maximum found at x = {result} with f(x) = {f(result)}\")\n",
        "    return result\n",
        "\n",
        "a, b = -1.5, 1.5\n",
        "tolerance = 0.5\n",
        "\n",
        "# Run the verbose golden section search\n",
        "max_x_verbose = golden_section_maximise_verbose(func, a, b, tolerance)\n",
        "max_x_verbose, func(max_x_verbose)"
      ],
      "metadata": {
        "colab": {
          "base_uri": "https://localhost:8080/"
        },
        "id": "-bbmJziPKU9-",
        "outputId": "fe523ae9-fd09-4348-fa9d-6f3217848f63"
      },
      "execution_count": 9,
      "outputs": [
        {
          "output_type": "stream",
          "name": "stdout",
          "text": [
            "Starting interval: [-1.5, 1.5]\n",
            "Iteration 1:\n",
            "  Interval: [-1.5, 1.5]\n",
            "  c = -0.35410196624968426, f(c) = -4.300332956103623\n",
            "  d = 0.35410196624968426, f(d) = 4.198114233888799\n",
            "  New interval is [-0.35410196624968426, 1.5] (keeping right side)\n",
            "Iteration 2:\n",
            "  Interval: [-0.35410196624968426, 1.5]\n",
            "  c = 0.35410196624968493, f(c) = 4.198114233888807\n",
            "  d = 0.7917960675006308, f(d) = 7.82954306957784\n",
            "  New interval is [0.35410196624968493, 1.5] (keeping right side)\n",
            "Iteration 3:\n",
            "  Interval: [0.35410196624968493, 1.5]\n",
            "  c = 0.7917960675006313, f(c) = 7.82954306957784\n",
            "  d = 1.0623058987490537, f(d) = 6.052905916704311\n",
            "  New interval is [0.35410196624968493, 1.0623058987490537] (keeping left side)\n",
            "Iteration 4:\n",
            "  Interval: [0.35410196624968493, 1.0623058987490537]\n",
            "  c = 0.6246117974981076, f(c) = 6.9199484346123095\n",
            "  d = 0.791796067500631, f(d) = 7.8295430695778405\n",
            "  New interval is [0.6246117974981076, 1.0623058987490537] (keeping right side)\n",
            "\n",
            "Approximate maximum found at x = 0.8434588481235806 with f(x) = 7.883004737950802\n"
          ]
        },
        {
          "output_type": "execute_result",
          "data": {
            "text/plain": [
              "(0.8434588481235806, 7.883004737950802)"
            ]
          },
          "metadata": {},
          "execution_count": 9
        }
      ]
    },
    {
      "cell_type": "markdown",
      "source": [
        "Find the minimum of the function $f(x) = -2x^3 + 9x^2 - 3$ in the range $[-1.5,1.5]$  with a tolerance of $\\epsilon = 0.5$"
      ],
      "metadata": {
        "id": "LFHIC098KnvY"
      }
    },
    {
      "cell_type": "code",
      "source": [
        "import math\n",
        "def func(x):\n",
        "    return -2 * x**3 + 9 * x**2 - 3\n",
        "\n",
        "# Golden ratio\n",
        "phi = 2/(1 + math.sqrt(5))  # ≈ 0.618\n",
        "\n",
        "# Golden section search for minimization with detailed print statements\n",
        "def golden_section_minimize_verbose(f, a, b, tolerance):\n",
        "    # Initial points based on golden ratio\n",
        "    c = b - (b - a) * phi\n",
        "    d = a + (b - a) * phi\n",
        "    iteration = 1\n",
        "\n",
        "    print(f\"Starting interval: [{a}, {b}]\")\n",
        "    while abs(b - a) > tolerance:\n",
        "        # Evaluate function at points c and d\n",
        "        f_c = f(c)\n",
        "        f_d = f(d)\n",
        "\n",
        "        # Print the details of the current iteration\n",
        "        print(f\"Iteration {iteration}:\")\n",
        "        print(f\"  Interval: [{a}, {b}]\")\n",
        "        print(f\"  c = {c}, f(c) = {f_c}\")\n",
        "        print(f\"  d = {d}, f(d) = {f_d}\")\n",
        "\n",
        "        if f_c < f_d:\n",
        "            b = d\n",
        "            print(f\"  New interval is [{a}, {b}] (keeping left side)\")\n",
        "        else:\n",
        "            a = c\n",
        "            print(f\"  New interval is [{a}, {b}] (keeping right side)\")\n",
        "\n",
        "\n",
        "        # Recalculate c and d for the next iteration\n",
        "        c = b - (b - a) * phi\n",
        "        d = a + (b - a) * phi\n",
        "        iteration += 1\n",
        "\n",
        "    # Return midpoint as approximate location of the minimum\n",
        "    result = (b + a) / 2\n",
        "    print(f\"\\nApproximate minimum found at x = {result} with f(x) = {f(result)}\")\n",
        "    return result\n",
        "\n",
        "a, b = -1.5, 1.5\n",
        "tolerance = 0.5\n",
        "\n",
        "# Run the verbose golden section search\n",
        "min_x_verbose = golden_section_minimize_verbose(func, a, b, tolerance)\n",
        "min_x_verbose, func(min_x_verbose)"
      ],
      "metadata": {
        "colab": {
          "base_uri": "https://localhost:8080/"
        },
        "id": "LtvAtAuTjrCO",
        "outputId": "b009760d-37b7-4445-826c-cb1df3d32ecd"
      },
      "execution_count": 10,
      "outputs": [
        {
          "output_type": "stream",
          "name": "stdout",
          "text": [
            "Starting interval: [-1.5, 1.5]\n",
            "Iteration 1:\n",
            "  Interval: [-1.5, 1.5]\n",
            "  c = -0.35410196624968426, f(c) = -1.7827057593820996\n",
            "  d = 0.35410196624968426, f(d) = -1.9603065955838346\n",
            "  New interval is [-0.35410196624968426, 1.5] (keeping right side)\n",
            "Iteration 2:\n",
            "  Interval: [-0.35410196624968426, 1.5]\n",
            "  c = 0.35410196624968493, f(c) = -1.9603065955838308\n",
            "  d = 0.7917960675006308, f(d) = 1.649650256065458\n",
            "  New interval is [-0.35410196624968426, 0.7917960675006308] (keeping left side)\n",
            "Iteration 3:\n",
            "  Interval: [-0.35410196624968426, 0.7917960675006308]\n",
            "  c = 0.08359213500126206, f(c) = -2.9382794190274346\n",
            "  d = 0.3541019662496845, f(d) = -1.9603065955838335\n",
            "  New interval is [-0.35410196624968426, 0.3541019662496845] (keeping left side)\n",
            "Iteration 4:\n",
            "  Interval: [-0.35410196624968426, 0.3541019662496845]\n",
            "  c = -0.08359213500126161, f(c) = -2.9359429703593203\n",
            "  d = 0.08359213500126184, f(d) = -2.938279419027435\n",
            "  New interval is [-0.08359213500126161, 0.3541019662496845] (keeping right side)\n",
            "\n",
            "Approximate minimum found at x = 0.13525491562421144 with f(x) = -2.8403036478874246\n"
          ]
        },
        {
          "output_type": "execute_result",
          "data": {
            "text/plain": [
              "(0.13525491562421144, -2.8403036478874246)"
            ]
          },
          "metadata": {},
          "execution_count": 10
        }
      ]
    },
    {
      "cell_type": "code",
      "source": [],
      "metadata": {
        "id": "0bQErcd5KsL2"
      },
      "execution_count": 10,
      "outputs": []
    }
  ]
}